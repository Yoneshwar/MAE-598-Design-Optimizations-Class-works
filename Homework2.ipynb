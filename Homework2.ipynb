{
 "cells": [
  {
   "cell_type": "markdown",
   "id": "6850dd6f",
   "metadata": {},
   "source": [
    "# Homework 2 Solution \n",
    "1.Show that the stationary point (zero gradient) of the function$$\n",
    "\\begin{aligned}\n",
    "    f=2x_{1}^{2} - 4x_1 x_2+ 1.5x^{2}_{2}+ x_2\n",
    "\\end{aligned}\n",
    "$$is a saddle (with indefinite Hessian). Find the directions of downslopes away from the saddle. Hint: Use Taylor's expansion at the saddle point. Find directions that reduce $f$"
   ]
  },
  {
   "cell_type": "markdown",
   "id": "506ba43d",
   "metadata": {},
   "source": [
    "![](p1pg1.jpeg)\n"
   ]
  },
  {
   "cell_type": "markdown",
   "id": "ae044aba",
   "metadata": {},
   "source": [
    "![](p1pg2.jpeg)\n"
   ]
  },
  {
   "cell_type": "markdown",
   "id": "e6231e40",
   "metadata": {},
   "source": [
    "![](p1pg3.jpeg)"
   ]
  },
  {
   "cell_type": "markdown",
   "id": "dbe60cf6",
   "metadata": {},
   "source": [
    "2. Find the point in the plane $x_1+2x_2+3x_3=1$ in $\\mathbb{R}^3$ that is nearest to the point $(-1,0,1)^T$. Is this a convex problem? \n",
    "\n",
    " Implement the gradient descent and Newton's algorithm for solving the problem. Attach your codes along with a short summary including (1) the initial points tested, (2) corresponding solutions, (3) a log-linear convergence plot.\n"
   ]
  },
  {
   "cell_type": "markdown",
   "id": "88095a93",
   "metadata": {},
   "source": [
    "![](p2pg1.jpeg)"
   ]
  },
  {
   "cell_type": "markdown",
   "id": "0467ce99",
   "metadata": {},
   "source": [
    "![](p2pg2.jpeg)"
   ]
  },
  {
   "cell_type": "code",
   "execution_count": 3,
   "id": "7f561d69",
   "metadata": {},
   "outputs": [
    {
     "ename": "SyntaxError",
     "evalue": "invalid syntax (<ipython-input-3-bac920382aa1>, line 7)",
     "output_type": "error",
     "traceback": [
      "\u001b[1;36m  File \u001b[1;32m\"<ipython-input-3-bac920382aa1>\"\u001b[1;36m, line \u001b[1;32m7\u001b[0m\n\u001b[1;33m    obj = lambda x[0],x[1],x[2]: (x1 1)**2  # note that this is 1D. In Prob 2 it should be 2D.\u001b[0m\n\u001b[1;37m                  ^\u001b[0m\n\u001b[1;31mSyntaxError\u001b[0m\u001b[1;31m:\u001b[0m invalid syntax\n"
     ]
    }
   ],
   "source": [
    "#2b\n",
    "# Problem 2\n",
    "import numpy as np \n",
    "import matplotlib.pyplot as plt \n",
    "from line_search_bt import *\n",
    "\n",
    "obj = lambda x[0],x[1],x[2]: (x1 1)**2  .\n",
    "grad = lambda x: 2*(x - 1)  # this is not the correct gradient!\n",
    "eps = 1e-3  # termination criterion\n",
    "x0 = 0.  # initial guess\n",
    "k = 0  # counter\n",
    "soln = [x0]  # use an array to store the search steps\n",
    "x = soln[k]  # start with the initial guess\n",
    "error = abs(grad(x))  # compute the error. Note you will need to compute the norm for 2D grads, rather than the absolute value\n",
    "# a = 0.01  # set a fixed step size to start with\n",
    "\n",
    "# Armijo line search\n",
    "def line_search(x):\n",
    "    a = 1.  # initialize step size\n",
    "    phi = lambda a, x: obj(x) - a*0.8*grad(x)**2  # define phi as a search criterion\n",
    "    while phi(a,x)<obj(x-a*grad(x)):  # if f(x+a*d)>phi(a) then backtrack. d is the search direction\n",
    "        a = 0.5*a\n",
    "    return a\n",
    "\n",
    "while error >= eps:  # keep searching while gradient norm is larger than eps\n",
    "    a = line_search(x)\n",
    "    x = x - a*grad(x)\n",
    "    soln.append(x)\n",
    "    error = abs(grad(x))\n"
   ]
  },
  {
   "cell_type": "markdown",
   "id": "d64ddf60",
   "metadata": {},
   "source": [
    "3.Let $f(x)$ and $g(x)$ be two convex functions defined on the convex set $\\mathcal{X}$.\n",
    "\n",
    "  Prove that $af(x)+bg(x)$ is convex for $a>0$ and $b>0$.\n",
    "  \n",
    "  In what conditions will $f(g(x))$ be convex?"
   ]
  },
  {
   "cell_type": "code",
   "execution_count": null,
   "id": "337e15ed",
   "metadata": {},
   "outputs": [],
   "source": []
  }
 ],
 "metadata": {
  "kernelspec": {
   "display_name": "Python 3",
   "language": "python",
   "name": "python3"
  },
  "language_info": {
   "codemirror_mode": {
    "name": "ipython",
    "version": 3
   },
   "file_extension": ".py",
   "mimetype": "text/x-python",
   "name": "python",
   "nbconvert_exporter": "python",
   "pygments_lexer": "ipython3",
   "version": "3.8.8"
  }
 },
 "nbformat": 4,
 "nbformat_minor": 5
}
