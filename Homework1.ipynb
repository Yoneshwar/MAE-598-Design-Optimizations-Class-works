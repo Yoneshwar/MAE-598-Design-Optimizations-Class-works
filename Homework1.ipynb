{
 "cells": [
  {
   "cell_type": "markdown",
   "id": "644e8855",
   "metadata": {},
   "source": [
    "In the first program, I took intial condition as 2 for all x values."
   ]
  },
  {
   "cell_type": "code",
   "execution_count": 1,
   "id": "27efab18",
   "metadata": {},
   "outputs": [],
   "source": [
    "from scipy.optimize import minimize\n",
    "\n",
    "function_of_x = lambda x: ((x[0]-x[1])**2) +((x[1]+x[2]-2)**2)+((x[3]-1)**2)+((x[4]-1)**2)\n",
    "\n",
    "constraint_values=({'type':'eq','fun': lambda x: x[0]+3*x[1]},\n",
    "      {'type':'eq','fun': lambda x: x[2]+x[3]-2*x[4]},\n",
    "      {'type':'eq','fun': lambda x: x[1]-x[4]})\n",
    "    \n",
    "boundaries_of_x= ((-10, 10), (-10, 10), (-10, 10), (-10, 10), (-10, 10))\n",
    "      \n",
    "result = minimize(function_of_x, (2,2,2,2,2), method='SLSQP', bounds=boundaries_of_x, constraints=constraint_values)\n",
    "\n"
   ]
  },
  {
   "cell_type": "code",
   "execution_count": 11,
   "id": "b3abf198",
   "metadata": {
    "scrolled": true
   },
   "outputs": [
    {
     "data": {
      "text/plain": [
       "     fun: 4.093023255813952\n",
       "     jac: array([-2.04651165, -0.18604648, -2.23255813, -2.23255813, -1.48837209])\n",
       " message: 'Optimization terminated successfully'\n",
       "    nfev: 26\n",
       "     nit: 4\n",
       "    njev: 4\n",
       "  status: 0\n",
       " success: True\n",
       "       x: array([-0.76744186,  0.25581395,  0.62790698, -0.11627907,  0.25581395])"
      ]
     },
     "execution_count": 11,
     "metadata": {},
     "output_type": "execute_result"
    }
   ],
   "source": [
    "result"
   ]
  },
  {
   "cell_type": "markdown",
   "id": "2e052131",
   "metadata": {},
   "source": [
    "For the second iteration, We assign different values for x[0] to x[4]"
   ]
  },
  {
   "cell_type": "code",
   "execution_count": 10,
   "id": "fbce88a7",
   "metadata": {},
   "outputs": [],
   "source": [
    "from scipy.optimize import minimize\n",
    "\n",
    "function_of_x = lambda x: ((x[0]-x[1])**2) +((x[1]+x[2]-2)**2)+((x[3]-1)**2)+((x[4]-1)**2)\n",
    "\n",
    "constraint_values=({'type':'eq','fun': lambda x: x[0]+3*x[1]},\n",
    "      {'type':'eq','fun': lambda x: x[2]+x[3]-2*x[4]},\n",
    "      {'type':'eq','fun': lambda x: x[1]-x[4]})\n",
    "    \n",
    "boundaries_of_x= ((-10, 10), (-10, 10), (-10, 10), (-10, 10), (-10, 10))\n",
    "      \n",
    "result = minimize(function_of_x, (5,2,1,3,4), method='SLSQP',bounds=boundaries_of_x,constraints=constraint_values)"
   ]
  },
  {
   "cell_type": "code",
   "execution_count": 38,
   "id": "6643ce77",
   "metadata": {},
   "outputs": [
    {
     "data": {
      "text/plain": [
       "     fun: 4.093023255813952\n",
       "     jac: array([-2.04651165, -0.18604648, -2.23255813, -2.23255813, -1.48837209])\n",
       " message: 'Optimization terminated successfully'\n",
       "    nfev: 26\n",
       "     nit: 4\n",
       "    njev: 4\n",
       "  status: 0\n",
       " success: True\n",
       "       x: array([-0.76744186,  0.25581395,  0.62790698, -0.11627907,  0.25581395])"
      ]
     },
     "execution_count": 38,
     "metadata": {},
     "output_type": "execute_result"
    }
   ],
   "source": [
    "result"
   ]
  },
  {
   "cell_type": "code",
   "execution_count": 9,
   "id": "43bd2112",
   "metadata": {},
   "outputs": [],
   "source": [
    "from scipy.optimize import minimize\n",
    "\n",
    "function_of_x = lambda x: ((x[0]-x[1])**2) +((x[1]+x[2]-2)**2)+((x[3]-1)**2)+((x[4]-1)**2)\n",
    "\n",
    "constraint_values=({'type':'eq','fun': lambda x: x[0]+3*x[1]},\n",
    "      {'type':'eq','fun': lambda x: x[2]+x[3]-2*x[4]},\n",
    "      {'type':'eq','fun': lambda x: x[1]-x[4]})\n",
    "    \n",
    "boundaries_of_x= ((-10, 10), (-10, 10), (-10, 10), (-10, 10), (-10, 10))\n",
    "      \n",
    "result = minimize(function_of_x, (1,2,3,4,5), method='SLSQP',bounds=boundaries_of_x,constraints=constraint_values)"
   ]
  },
  {
   "cell_type": "code",
   "execution_count": 8,
   "id": "dfab2b30",
   "metadata": {},
   "outputs": [
    {
     "data": {
      "text/plain": [
       "     fun: 4.09302325588931\n",
       "     jac: array([-2.04579037, -0.18800253, -2.2337929 , -2.23186433, -1.48855239])\n",
       " message: 'Optimization terminated successfully'\n",
       "    nfev: 44\n",
       "     nit: 7\n",
       "    njev: 7\n",
       "  status: 0\n",
       " success: True\n",
       "       x: array([-0.76743912,  0.25581304,  0.62791188, -0.1162858 ,  0.25581304])"
      ]
     },
     "execution_count": 8,
     "metadata": {},
     "output_type": "execute_result"
    }
   ],
   "source": [
    "result"
   ]
  },
  {
   "cell_type": "code",
   "execution_count": null,
   "id": "435b30cd",
   "metadata": {},
   "outputs": [],
   "source": [
    "from scipy.optimize import minimize\n",
    "\n",
    "function_of_x = lambda x: ((x[0]-x[1])**2) +((x[1]+x[2]-2)**2)+((x[3]-1)**2)+((x[4]-1)**2)\n",
    "\n",
    "constraint_values=({'type':'eq','fun': lambda x: x[0]+3*x[1]},\n",
    "      {'type':'eq','fun': lambda x: x[2]+x[3]-2*x[4]},\n",
    "      {'type':'eq','fun': lambda x: x[1]-x[4]})\n",
    "    \n",
    "boundaries_of_x= ((-10, 10), (-10, 10), (-10, 10), (-10, 10), (-10, 10))\n",
    "      \n",
    "result = minimize(function_of_x, (5,2,1,4,2), method='SLSQP',bounds=boundaries_of_x,constraints=constraint_values)"
   ]
  },
  {
   "cell_type": "code",
   "execution_count": 12,
   "id": "b7515c9b",
   "metadata": {},
   "outputs": [
    {
     "data": {
      "text/plain": [
       "     fun: 4.093023255813952\n",
       "     jac: array([-2.04651165, -0.18604648, -2.23255813, -2.23255813, -1.48837209])\n",
       " message: 'Optimization terminated successfully'\n",
       "    nfev: 26\n",
       "     nit: 4\n",
       "    njev: 4\n",
       "  status: 0\n",
       " success: True\n",
       "       x: array([-0.76744186,  0.25581395,  0.62790698, -0.11627907,  0.25581395])"
      ]
     },
     "execution_count": 12,
     "metadata": {},
     "output_type": "execute_result"
    }
   ],
   "source": [
    "result"
   ]
  },
  {
   "cell_type": "markdown",
   "id": "4c186951",
   "metadata": {},
   "source": [
    "As I observed , the value of the function remains the same with some negligble changes, where as the x values in the changes somewhat more than others.    "
   ]
  }
 ],
 "metadata": {
  "kernelspec": {
   "display_name": "Python 3",
   "language": "python",
   "name": "python3"
  },
  "language_info": {
   "codemirror_mode": {
    "name": "ipython",
    "version": 3
   },
   "file_extension": ".py",
   "mimetype": "text/x-python",
   "name": "python",
   "nbconvert_exporter": "python",
   "pygments_lexer": "ipython3",
   "version": "3.8.8"
  }
 },
 "nbformat": 4,
 "nbformat_minor": 5
}
