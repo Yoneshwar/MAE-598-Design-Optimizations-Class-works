{
 "cells": [
  {
   "cell_type": "code",
   "execution_count": null,
   "id": "8a51fe67",
   "metadata": {},
   "outputs": [],
   "source": [
    "import numpy as np\n",
    "from torch.autograd import Variable\n",
    "import torch as t\n",
    "\n",
    "\n",
    "A12= Variable(t.tensor([1.0, 0.0]), requires_grad=True)\n",
    "\n",
    "A21= Variable(t.tensor([1.0, 0.0]), requires_grad=True)\n",
    "\n",
    "x1 = np.array([0.0,0.1,0.2,0.3,0.4,0.5,0.6,0.7,0.8,0.9,1.0])\n",
    "\n",
    "x2 = 1-x1 #x1+x2=1 given\n",
    "\n",
    "a = 0.01\n",
    "\n",
    "T = 20\n",
    "\n",
    "p = np.array([28.1,34.4,36.7,36.9,36.8,36.7,36.5,35.4,32.9,27.7,17.5])\n",
    "\n",
    "a_water=np.array([8.07131,1730.63,233.426])\n",
    "\n",
    "a_14_dioxane=np.array([7.43155,1554.679,240.337])\n",
    "\n",
    "p_sat_water=\n",
    "p_sat_14dioxane=\n",
    "\n",
    "for i in range(500):  # termination criterion\n",
    "    for \n",
    "    loss = \n",
    "    loss.backward()\n",
    "\n",
    "    \n",
    "    # no_grad() specifies that the operations within this context are not part of the computational graph, i.e., we don't need the gradient descent algorithm itself to be differentiable with respect to x\n",
    "    with t.no_grad():\n",
    "        x = x-a * x.grad\n",
    "        \n",
    "        # need to clear the gradient at every step, or otherwise it will accumulate...\n",
    "        x.grad.zero_()\n",
    "        \n",
    "print(x.data.numpy())\n",
    "print(loss.data.numpy())    "
   ]
  }
 ],
 "metadata": {
  "kernelspec": {
   "display_name": "Python 3",
   "language": "python",
   "name": "python3"
  },
  "language_info": {
   "codemirror_mode": {
    "name": "ipython",
    "version": 3
   },
   "file_extension": ".py",
   "mimetype": "text/x-python",
   "name": "python",
   "nbconvert_exporter": "python",
   "pygments_lexer": "ipython3",
   "version": "3.8.8"
  }
 },
 "nbformat": 4,
 "nbformat_minor": 5
}
