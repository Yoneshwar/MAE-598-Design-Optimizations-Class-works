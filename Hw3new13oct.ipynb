{
 "cells": [
  {
   "cell_type": "markdown",
   "id": "1ef631c5",
   "metadata": {},
   "source": [
    "DESIGN OPTIMISATION HOMEWORK3\n",
    "\n",
    "NAME: YONESHWAR BABU\n",
    "ASU ID:12204554365"
   ]
  },
  {
   "cell_type": "markdown",
   "id": "5e840bce",
   "metadata": {},
   "source": [
    "PROBLEM 1"
   ]
  },
  {
   "cell_type": "markdown",
   "id": "56d6a933",
   "metadata": {},
   "source": [
    "![](DOq1.png)"
   ]
  },
  {
   "cell_type": "code",
   "execution_count": 89,
   "id": "9a0e886c",
   "metadata": {
    "scrolled": true
   },
   "outputs": [
    {
     "name": "stdout",
     "output_type": "stream",
     "text": [
      "x1= [0.  0.1 0.2 0.3 0.4 0.5 0.6 0.7 0.8 0.9 1. ]\n",
      "x2= [1.  0.9 0.8 0.7 0.6 0.5 0.4 0.3 0.2 0.1 0. ]\n",
      "p water= 17.47325208459706\n",
      "p 14dioxane= 28.824099527405245\n",
      "The value of A12 is 1.9584197 & the value of A21 is 1.6891853\n",
      "The final loss value = 0.0008994691\n"
     ]
    }
   ],
   "source": [
    "import numpy as np\n",
    "import math as m\n",
    "import torch as t\n",
    "from torch.autograd import Variable\n",
    "import matplotlib.pyplot as plt\n",
    "A= Variable(t.tensor([1.0, 1.0]), requires_grad=True) \n",
    "T = 20\n",
    "x1 = np.array([0.0,0.1,0.2,0.3,0.4,0.5,0.6,0.7,0.8,0.9,1.0])\n",
    "print('x1=',x1)\n",
    "x2=1-x1 #x1+x2=1 given\n",
    "print('x2=',x2)\n",
    "a = 0.001 # assigning the step size\n",
    "a_water=np.array([8.07131,1730.63,233.426])\n",
    "a_14dioxane=np.array([7.43155,1554.679,240.337])\n",
    "p=np.array([28.1,34.4,36.7,36.9,36.8,36.7,36.5,35.4,32.9,27.7,17.5])\n",
    "def p_sat(a,T): #defining a function to find psat for water and 1,4 diaxone\n",
    "    return 10**(a[0]-((a[1])/(T+a[2]))) #\n",
    "p_water=((p_sat(a_water,T)))\n",
    "print(\"p water=\", p_water)\n",
    "p_14dioxane=((p_sat(a_14dioxane,T)))\n",
    "print(\"p 14dioxane=\",p_14dioxane)\n",
    "for i in range(500):\n",
    "    for i in range(0,10):\n",
    "        T1 = (x1[i]*t.exp(A[0]*((A[1]*x2[i])/((A[0]*x1[i])+(A[1]*x2[i])))**2))*p_water\n",
    "        T2 = (x2[i]*t.exp(A[1]*((A[0]*x1[i])/((A[0]*x1[i])+(A[1]*x2[i])))**2))*p_14dioxane\n",
    "        loss = (((T1)+(T2))-p[i])**2\n",
    "        loss.backward()\n",
    "    A.grad.numpy()\n",
    "    with t.no_grad():\n",
    "        A -=a* A.grad\n",
    "        A.grad.zero_()\n",
    "soln=A.data.numpy()\n",
    "print('The value of A12 is',soln[0],'& the value of A21 is',soln[1])\n",
    "print('The final loss value =',loss.data.numpy())\n",
    "\n",
    "\n"
   ]
  },
  {
   "cell_type": "code",
   "execution_count": 108,
   "id": "32a53c3d",
   "metadata": {
    "scrolled": false
   },
   "outputs": [
    {
     "name": "stdout",
     "output_type": "stream",
     "text": [
      "Given P value      = 28.1\n",
      "calculated P value = 28.824099527405245\n",
      "Given P value      = 34.4\n",
      "calculated P value = 34.644320905364836\n",
      "Given P value      = 36.7\n",
      "calculated P value = 36.4529727961372\n",
      "Given P value      = 36.9\n",
      "calculated P value = 36.86731713290105\n",
      "Given P value      = 36.8\n",
      "calculated P value = 36.8740101742529\n",
      "Given P value      = 36.7\n",
      "calculated P value = 36.749837790629954\n",
      "Given P value      = 36.5\n",
      "calculated P value = 36.390452361818134\n",
      "Given P value      = 35.4\n",
      "calculated P value = 35.384823995343865\n",
      "Given P value      = 32.9\n",
      "calculated P value = 32.947778033805236\n",
      "Given P value      = 27.7\n",
      "calculated P value = 27.729993125989758\n",
      "Given P value      = 17.5\n",
      "calculated P value = 17.47325208459706\n"
     ]
    },
    {
     "data": {
      "image/png": "[encoded data removed]",
      "text/plain": [
       "<Figure size 432x288 with 1 Axes>"
      ]
     },
     "metadata": {
      "needs_background": "light"
     },
     "output_type": "display_data"
    }
   ],
   "source": [
    "calcP_str=[]\n",
    "\n",
    "for i in range(0,11):\n",
    "    \n",
    "    M1 =(x1[i]*m.exp(A[0]*((A[1]*x2[i])/((A[0]*x1[i])+(A[1]*x2[i])))**2))*p_water\n",
    "    \n",
    "    M2 =(x2[i]*m.exp(A[1]*((A[0]*x1[i])/((A[0]*x1[i])+(A[1]*x2[i])))**2))*p_14dioxane\n",
    "    \n",
    "    calcP=np.asarray(M1+M2)\n",
    "    \n",
    "    calcP_str.append(calcP)\n",
    "             \n",
    "    print(\"Given P value      =\",p[i])\n",
    "    \n",
    "    print(\"calculated P value =\",calcP)\n",
    "        \n",
    "    \n",
    "plt.plot(x1,p,'r', linewidth='3', label='x1 vs p')\n",
    "plt.grid()\n",
    "plt.xlabel('x1',c='g',fontsize='16')\n",
    "plt.ylabel('p',c='g',fontsize='16')\n",
    "plt.title('Vapor Liquid equilibria' )\n",
    "plt.plot(x1,calcP_str,'b*',label='x1 vs calc p')\n",
    "plt.legend()\n",
    "plt.show()\n",
    "\n",
    "\n"
   ]
  },
  {
   "cell_type": "markdown",
   "id": "dfb12275",
   "metadata": {},
   "source": [
    "![](DOq2.png)\n"
   ]
  },
  {
   "cell_type": "code",
   "execution_count": 64,
   "id": "3e9b8770",
   "metadata": {},
   "outputs": [
    {
     "name": "stdout",
     "output_type": "stream",
     "text": [
      "|   iter    |  target   |     x     |     y     |\n",
      "-------------------------------------------------\n",
      "| \u001b[0m 1       \u001b[0m | \u001b[0m 1.158   \u001b[0m | \u001b[0m-0.4979  \u001b[0m | \u001b[0m 0.8813  \u001b[0m |\n",
      "| \u001b[0m 2       \u001b[0m | \u001b[0m-108.6   \u001b[0m | \u001b[0m-2.999   \u001b[0m | \u001b[0m-0.7907  \u001b[0m |\n",
      "| \u001b[95m 3       \u001b[0m | \u001b[95m 2.089   \u001b[0m | \u001b[95m-0.617   \u001b[0m | \u001b[95m 0.728   \u001b[0m |\n",
      "| \u001b[0m 4       \u001b[0m | \u001b[0m 1.56    \u001b[0m | \u001b[0m 1.29    \u001b[0m | \u001b[0m-0.7013  \u001b[0m |\n",
      "| \u001b[0m 5       \u001b[0m | \u001b[0m-132.6   \u001b[0m | \u001b[0m 3.0     \u001b[0m | \u001b[0m 1.55    \u001b[0m |\n",
      "| \u001b[0m 6       \u001b[0m | \u001b[0m-59.82   \u001b[0m | \u001b[0m 0.1164  \u001b[0m | \u001b[0m-2.0     \u001b[0m |\n",
      "| \u001b[0m 7       \u001b[0m | \u001b[0m-114.6   \u001b[0m | \u001b[0m 2.785   \u001b[0m | \u001b[0m-2.0     \u001b[0m |\n",
      "| \u001b[95m 8       \u001b[0m | \u001b[95m 3.484   \u001b[0m | \u001b[95m 0.3693  \u001b[0m | \u001b[95m 0.02452 \u001b[0m |\n",
      "| \u001b[0m 9       \u001b[0m | \u001b[0m-60.39   \u001b[0m | \u001b[0m-2.052   \u001b[0m | \u001b[0m 2.0     \u001b[0m |\n",
      "| \u001b[0m 10      \u001b[0m | \u001b[0m-62.18   \u001b[0m | \u001b[0m 0.5601  \u001b[0m | \u001b[0m 2.0     \u001b[0m |\n",
      "| \u001b[0m 11      \u001b[0m | \u001b[0m 1.378   \u001b[0m | \u001b[0m 1.347   \u001b[0m | \u001b[0m 0.2073  \u001b[0m |\n",
      "| \u001b[0m 12      \u001b[0m | \u001b[0m 1.908   \u001b[0m | \u001b[0m-0.6572  \u001b[0m | \u001b[0m-0.5506  \u001b[0m |\n",
      "| \u001b[0m 13      \u001b[0m | \u001b[0m-65.2    \u001b[0m | \u001b[0m-1.534   \u001b[0m | \u001b[0m-2.0     \u001b[0m |\n",
      "| \u001b[0m 14      \u001b[0m | \u001b[0m 2.716   \u001b[0m | \u001b[0m 0.344   \u001b[0m | \u001b[0m-0.7222  \u001b[0m |\n",
      "| \u001b[0m 15      \u001b[0m | \u001b[0m 2.063   \u001b[0m | \u001b[0m 0.9651  \u001b[0m | \u001b[0m-0.2657  \u001b[0m |\n",
      "| \u001b[0m 16      \u001b[0m | \u001b[0m-0.6004  \u001b[0m | \u001b[0m 2.087   \u001b[0m | \u001b[0m-0.2576  \u001b[0m |\n",
      "| \u001b[95m 17      \u001b[0m | \u001b[95m 3.633   \u001b[0m | \u001b[95m-0.3098  \u001b[0m | \u001b[95m-0.007782\u001b[0m |\n",
      "| \u001b[0m 18      \u001b[0m | \u001b[0m 1.729   \u001b[0m | \u001b[0m-1.313   \u001b[0m | \u001b[0m 0.06966 \u001b[0m |\n",
      "| \u001b[0m 19      \u001b[0m | \u001b[0m 2.075   \u001b[0m | \u001b[0m 0.3536  \u001b[0m | \u001b[0m 0.7394  \u001b[0m |\n",
      "| \u001b[0m 20      \u001b[0m | \u001b[0m 1.555   \u001b[0m | \u001b[0m-1.474   \u001b[0m | \u001b[0m 0.7659  \u001b[0m |\n",
      "| \u001b[0m 21      \u001b[0m | \u001b[0m 2.366   \u001b[0m | \u001b[0m 1.606   \u001b[0m | \u001b[0m-0.2856  \u001b[0m |\n",
      "| \u001b[0m 22      \u001b[0m | \u001b[0m-7.777   \u001b[0m | \u001b[0m-1.013   \u001b[0m | \u001b[0m 1.283   \u001b[0m |\n",
      "| \u001b[0m 23      \u001b[0m | \u001b[0m 3.622   \u001b[0m | \u001b[0m-0.1175  \u001b[0m | \u001b[0m-0.5069  \u001b[0m |\n",
      "| \u001b[0m 24      \u001b[0m | \u001b[0m 2.109   \u001b[0m | \u001b[0m-0.8626  \u001b[0m | \u001b[0m 0.0701  \u001b[0m |\n",
      "| \u001b[95m 25      \u001b[0m | \u001b[95m 3.789   \u001b[0m | \u001b[95m-0.02347 \u001b[0m | \u001b[95m 0.4842  \u001b[0m |\n",
      "| \u001b[0m 26      \u001b[0m | \u001b[0m 1.824   \u001b[0m | \u001b[0m 0.7879  \u001b[0m | \u001b[0m 0.4028  \u001b[0m |\n",
      "| \u001b[0m 27      \u001b[0m | \u001b[0m 1.916   \u001b[0m | \u001b[0m-1.184   \u001b[0m | \u001b[0m 0.5272  \u001b[0m |\n",
      "| \u001b[0m 28      \u001b[0m | \u001b[0m 1.459   \u001b[0m | \u001b[0m-1.96    \u001b[0m | \u001b[0m 0.5074  \u001b[0m |\n",
      "| \u001b[0m 29      \u001b[0m | \u001b[0m-106.3   \u001b[0m | \u001b[0m-3.0     \u001b[0m | \u001b[0m 1.029   \u001b[0m |\n",
      "| \u001b[0m 30      \u001b[0m | \u001b[0m 2.436   \u001b[0m | \u001b[0m-1.695   \u001b[0m | \u001b[0m 0.3184  \u001b[0m |\n",
      "| \u001b[0m 31      \u001b[0m | \u001b[0m 0.5748  \u001b[0m | \u001b[0m 1.947   \u001b[0m | \u001b[0m 0.1411  \u001b[0m |\n",
      "| \u001b[0m 32      \u001b[0m | \u001b[0m 0.1065  \u001b[0m | \u001b[0m 0.8379  \u001b[0m | \u001b[0m-0.9122  \u001b[0m |\n",
      "=================================================\n",
      "{'target': 3.789210512192455, 'params': {'x': -0.023472165007744166, 'y': 0.4842474270723023}}\n"
     ]
    }
   ],
   "source": [
    "from bayes_opt import BayesianOptimization\n",
    "from matplotlib import pyplot as plt\n",
    "from\n",
    "\n",
    "def function(x, y):\n",
    "    return ((4-(2.1*x**2)+((x**4)/3))*x**2+(x*y)+(-4+(4*y**2)*y**2))\n",
    "    pbounds = {'x': (-3, 3), 'y': (-2, 2)}\n",
    "\n",
    "optimizer = BayesianOptimization(f=function,pbounds=pbounds,random_state=1)\n",
    "\n",
    "optimizer.maximize(init_points=2,n_iter=30)\n",
    "print(optimizer.max)\n"
   ]
  },
  {
   "cell_type": "code",
   "execution_count": 101,
   "id": "03be46a7",
   "metadata": {},
   "outputs": [],
   "source": [
    "from scipy.optimize import minimize\n",
    "\n",
    "function_of_x = lambda x: ((4-(2.1*x[0]**2)+((x[0]**4)/3))*x[0]**2+(x[0]*x[1])+(-4+(4*x[1]**2)*x[1]**2))\n",
    "\n",
    "boundaries_of_x= ((-3, 3), (-2, 2))\n",
    "      \n",
    "result = minimize(function_of_x, (1,1), method='SLSQP',bounds=boundaries_of_x)"
   ]
  },
  {
   "cell_type": "code",
   "execution_count": null,
   "id": "95efc721",
   "metadata": {},
   "outputs": [],
   "source": []
  }
 ],
 "metadata": {
  "kernelspec": {
   "display_name": "Python 3",
   "language": "python",
   "name": "python3"
  },
  "language_info": {
   "codemirror_mode": {
    "name": "ipython",
    "version": 3
   },
   "file_extension": ".py",
   "mimetype": "text/x-python",
   "name": "python",
   "nbconvert_exporter": "python",
   "pygments_lexer": "ipython3",
   "version": "3.8.8"
  }
 },
 "nbformat": 4,
 "nbformat_minor": 5
}
