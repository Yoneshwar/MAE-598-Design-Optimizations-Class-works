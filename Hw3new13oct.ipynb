{
 "cells": [
  {
   "cell_type": "markdown",
   "id": "2ebd15a7",
   "metadata": {},
   "source": [
    "DESIGN OPTIMISATION HOMEWORK3\n",
    "\n",
    "NAME: YONESHWAR BABU\n",
    "ASU ID:12204554365"
   ]
  },
  {
   "cell_type": "markdown",
   "id": "efcee7cf",
   "metadata": {},
   "source": [
    "PROBLEM 1"
   ]
  },
  {
   "cell_type": "markdown",
   "id": "729a4635",
   "metadata": {},
   "source": [
    "![](DOq1.png)"
   ]
  },
  {
   "cell_type": "code",
   "execution_count": 55,
   "id": "6118bcb7",
   "metadata": {},
   "outputs": [
    {
     "name": "stdout",
     "output_type": "stream",
     "text": [
      "x1= [0.  0.1 0.2 0.3 0.4 0.5 0.6 0.7 0.8 0.9 1. ]\n",
      "x2= [1.  0.9 0.8 0.7 0.6 0.5 0.4 0.3 0.2 0.1 0. ]\n",
      "p water= 17.47325208459706\n",
      "p 14dioxane= 28.824099527405245\n",
      "The value of A12 is 1.9584196 & the value of A21 is 1.6891851\n",
      "The final loss value = 0.0008996979\n"
     ]
    }
   ],
   "source": [
    "import numpy as np\n",
    "import math as m\n",
    "import torch as t\n",
    "from torch.autograd import Variable\n",
    "import matplotlib.pyplot as plt\n",
    "\n",
    "A= Variable(t.tensor([1.0, 1.0]), requires_grad=True) #Setting initial A12 and A21 \n",
    "\n",
    "T = 20\n",
    "\n",
    "x1 = np.array([0.0,0.1,0.2,0.3,0.4,0.5,0.6,0.7,0.8,0.9,1.0])\n",
    "\n",
    "print('x1=',x1)\n",
    "\n",
    "x2=1-x1 #x1+x2=1 given\n",
    "\n",
    "print('x2=',x2)\n",
    " \n",
    "a = 0.001 # assigning the step size\n",
    "\n",
    "a_water=np.array([8.07131,1730.63,233.426])\n",
    "\n",
    "a_14dioxane=np.array([7.43155,1554.679,240.337])\n",
    "\n",
    "p=np.array([28.1,34.4,36.7,36.9,36.8,36.7,36.5,35.4,32.9,27.7,17.5])\n",
    "\n",
    "def p_sat(a,T): #defining a function to find psat for water and 1,4 diaxone \n",
    "   return 10**(a[0]-((a[1])/(T+a[2]))) #\n",
    "\n",
    "p_water=((p_sat(a_water,T)))\n",
    "\n",
    "print(\"p water=\", p_water)\n",
    "\n",
    "p_14dioxane=((p_sat(a_14dioxane,T)))\n",
    "\n",
    "print(\"p 14dioxane=\",p_14dioxane)\n",
    "\n",
    "for i in range(500): \n",
    "    for i in range(0,10):\n",
    "        \n",
    "        T1 = (x1[i]*p_water*t.exp(A[0]*((A[1]*x2[i])/((A[0]*x1[i])+(A[1]*x2[i])))**2))            \n",
    "           \n",
    "        T2 = (x2[i]*p_14dioxane*t.exp(A[1]*((A[0]*x1[i])/((A[0]*x1[i])+(A[1]*x2[i])))**2))            \n",
    "            \n",
    "        loss = (((T1)+(T2))-p[i])**2\n",
    "              \n",
    "        loss.backward()\n",
    "              \n",
    "    A.grad.numpy()\n",
    "    \n",
    "    with t.no_grad():\n",
    "        \n",
    "        A -=a* A.grad\n",
    "        \n",
    "        A.grad.zero_() \n",
    "\n",
    "sol=A.data.numpy()\n",
    "\n",
    "print('The value of A12 is',sol[0],'& the value of A21 is',sol[1])\n",
    "print('The final loss value =',loss.data.numpy())\n",
    "\n",
    "\n",
    "\n"
   ]
  },
  {
   "cell_type": "code",
   "execution_count": null,
   "id": "ec2ea498",
   "metadata": {},
   "outputs": [],
   "source": [
    "compareP=[]\n",
    "\n",
    "\n",
    "print('Checking model vs. experimental data (experimental p, modeled p, difference')\n",
    "for i in range(0,10):\n",
    "    \n",
    "   compareP = ((x1[i]*pwater*m.exp(A[0]*((A[1]*x2[i])/(A[0]*x1[i]+A[1]*x2[i]))**2)) + (x2[i]*pdioxane*m.exp( A[1]*((A[0]*x1[i])/(A[0]*x1[i]+A[1]*x2[i]))**2)))\n",
    "   compareP_str.append(pcheck)\n",
    "   print(\"p experimental=\",p[i], \"&\", \"p model=\",pcheck, \"difference\" , p[i]-pcheck)\n",
    "\n",
    "\n",
    "\n",
    "plt.plot(x1,compare_p,'ro',x1,p)\n",
    "plt.xlabel('x')\n",
    "plt.ylabel('p')\n",
    "plt.title('Vapor Liquid equilibria - Experimental Vs. OLS Model Fit ')"
   ]
  },
  {
   "cell_type": "markdown",
   "id": "8df25361",
   "metadata": {},
   "source": [
    "![](DOq2.png)\n"
   ]
  },
  {
   "cell_type": "code",
   "execution_count": null,
   "id": "c2d8fffd",
   "metadata": {},
   "outputs": [],
   "source": []
  }
 ],
 "metadata": {
  "kernelspec": {
   "display_name": "Python 3",
   "language": "python",
   "name": "python3"
  },
  "language_info": {
   "codemirror_mode": {
    "name": "ipython",
    "version": 3
   },
   "file_extension": ".py",
   "mimetype": "text/x-python",
   "name": "python",
   "nbconvert_exporter": "python",
   "pygments_lexer": "ipython3",
   "version": "3.8.8"
  }
 },
 "nbformat": 4,
 "nbformat_minor": 5
}
